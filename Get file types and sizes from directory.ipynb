{
 "cells": [
  {
   "cell_type": "code",
   "execution_count": 5,
   "metadata": {
    "collapsed": true
   },
   "outputs": [],
   "source": [
    "import os"
   ]
  },
  {
   "cell_type": "code",
   "execution_count": 6,
   "metadata": {
    "collapsed": true
   },
   "outputs": [],
   "source": [
    "import tkinter"
   ]
  },
  {
   "cell_type": "code",
   "execution_count": 3,
   "metadata": {
    "collapsed": false
   },
   "outputs": [
    {
     "name": "stdout",
     "output_type": "stream",
     "text": [
      "C:/Users/tdahn/Desktop/ColorOurCollections\n"
     ]
    }
   ],
   "source": [
    "import tkinter as tk\n",
    "from tkinter import simpledialog\n",
    "\n",
    "application_window = tk.Tk()\n",
    "\n",
    "directory = simpledialog.askstring(\"Enter Directory\", 'Please enter the full path of the directory you wish to scan. Ex. C:/Users/jdoe/Documents',\n",
    "                                parent=application_window)\n",
    "print(directory)"
   ]
  },
  {
   "cell_type": "code",
   "execution_count": 30,
   "metadata": {
    "collapsed": false
   },
   "outputs": [
    {
     "name": "stdout",
     "output_type": "stream",
     "text": [
      ".ai: 5711816\n",
      ".pdf: 12993410\n",
      ".jpg: 5086597\n"
     ]
    }
   ],
   "source": [
    "for dirpath, dirnames, filenames in os.walk(directory):\n",
    "    typeList = []\n",
    "    for filename in filenames:\n",
    "        typeList.append(os.path.splitext(filename)[1])\n",
    "        types = list(set(typeList))\n",
    "    for ext in types:\n",
    "        totalSize = 0\n",
    "        for filename in filenames:\n",
    "            if os.path.splitext(filename)[1] == ext:\n",
    "                size = os.path.getsize(directory + '/' + filename)\n",
    "                totalSize += size\n",
    "        print(ext + ': ' + str(totalSize))"
   ]
  },
  {
   "cell_type": "code",
   "execution_count": null,
   "metadata": {
    "collapsed": true
   },
   "outputs": [],
   "source": []
  }
 ],
 "metadata": {
  "kernelspec": {
   "display_name": "Python 3",
   "language": "python",
   "name": "python3"
  },
  "language_info": {
   "codemirror_mode": {
    "name": "ipython",
    "version": 3
   },
   "file_extension": ".py",
   "mimetype": "text/x-python",
   "name": "python",
   "nbconvert_exporter": "python",
   "pygments_lexer": "ipython3",
   "version": "3.4.4"
  }
 },
 "nbformat": 4,
 "nbformat_minor": 0
}
